{
 "cells": [
  {
   "cell_type": "code",
   "execution_count": 112,
   "metadata": {},
   "outputs": [],
   "source": [
    "# import all of the libraries\n",
    "import pandas as pd\n",
    "import numpy as np\n",
    "import pickle\n",
    "\n",
    "import xgboost as xgb\n",
    "\n",
    "from sklearn.model_selection import train_test_split\n",
    "from sklearn.metrics import roc_curve\n",
    "from sklearn.metrics import auc\n",
    "from sklearn.metrics import roc_auc_score\n",
    "from sklearn.metrics import accuracy_score\n",
    "from sklearn.metrics import recall_score\n",
    "from sklearn.metrics import precision_score\n",
    "from sklearn.metrics import confusion_matrix\n",
    "from sklearn.metrics import classification_report\n",
    "\n",
    "pd.options.display.max_seq_items = 2000"
   ]
  },
  {
   "cell_type": "code",
   "execution_count": 113,
   "metadata": {},
   "outputs": [
    {
     "name": "stdout",
     "output_type": "stream",
     "text": [
      "(4031, 29)\n",
      "Index(['StudentId', 'C1', 'C2', 'C3', 'C4', 'C5', 'C6', 'C7', 'C8', 'C9',\n",
      "       'C10', 'C11', 'C12', 'C13', 'C14', 'C15', 'C16', 'C17', 'C18', 'C19',\n",
      "       'C20', 'C21', 'C22', 'C23', 'C24', 'C25', 'C26', 'C27', 'House'],\n",
      "      dtype='object')\n"
     ]
    },
    {
     "data": {
      "text/html": [
       "<div>\n",
       "<style scoped>\n",
       "    .dataframe tbody tr th:only-of-type {\n",
       "        vertical-align: middle;\n",
       "    }\n",
       "\n",
       "    .dataframe tbody tr th {\n",
       "        vertical-align: top;\n",
       "    }\n",
       "\n",
       "    .dataframe thead th {\n",
       "        text-align: right;\n",
       "    }\n",
       "</style>\n",
       "<table border=\"1\" class=\"dataframe\">\n",
       "  <thead>\n",
       "    <tr style=\"text-align: right;\">\n",
       "      <th></th>\n",
       "      <th>StudentId</th>\n",
       "      <th>C1</th>\n",
       "      <th>C2</th>\n",
       "      <th>C3</th>\n",
       "      <th>C4</th>\n",
       "      <th>C5</th>\n",
       "      <th>C6</th>\n",
       "      <th>C7</th>\n",
       "      <th>C8</th>\n",
       "      <th>C9</th>\n",
       "      <th>...</th>\n",
       "      <th>C19</th>\n",
       "      <th>C20</th>\n",
       "      <th>C21</th>\n",
       "      <th>C22</th>\n",
       "      <th>C23</th>\n",
       "      <th>C24</th>\n",
       "      <th>C25</th>\n",
       "      <th>C26</th>\n",
       "      <th>C27</th>\n",
       "      <th>House</th>\n",
       "    </tr>\n",
       "  </thead>\n",
       "  <tbody>\n",
       "    <tr>\n",
       "      <th>2380</th>\n",
       "      <td>2381</td>\n",
       "      <td>A</td>\n",
       "      <td>A</td>\n",
       "      <td>A</td>\n",
       "      <td>D</td>\n",
       "      <td>A</td>\n",
       "      <td>C</td>\n",
       "      <td>A</td>\n",
       "      <td>A</td>\n",
       "      <td>A</td>\n",
       "      <td>...</td>\n",
       "      <td>A</td>\n",
       "      <td>A</td>\n",
       "      <td>A</td>\n",
       "      <td>B</td>\n",
       "      <td>A</td>\n",
       "      <td>A</td>\n",
       "      <td>A</td>\n",
       "      <td>A</td>\n",
       "      <td>C</td>\n",
       "      <td>Ravenclaw</td>\n",
       "    </tr>\n",
       "    <tr>\n",
       "      <th>2548</th>\n",
       "      <td>2549</td>\n",
       "      <td>A</td>\n",
       "      <td>E</td>\n",
       "      <td>A</td>\n",
       "      <td>A</td>\n",
       "      <td>A</td>\n",
       "      <td>A</td>\n",
       "      <td>B</td>\n",
       "      <td>A</td>\n",
       "      <td>A</td>\n",
       "      <td>...</td>\n",
       "      <td>A</td>\n",
       "      <td>D</td>\n",
       "      <td>A</td>\n",
       "      <td>C</td>\n",
       "      <td>A</td>\n",
       "      <td>A</td>\n",
       "      <td>B</td>\n",
       "      <td>A</td>\n",
       "      <td>A</td>\n",
       "      <td>Ravenclaw</td>\n",
       "    </tr>\n",
       "    <tr>\n",
       "      <th>3920</th>\n",
       "      <td>3921</td>\n",
       "      <td>A</td>\n",
       "      <td>A</td>\n",
       "      <td>E</td>\n",
       "      <td>A</td>\n",
       "      <td>C</td>\n",
       "      <td>A</td>\n",
       "      <td>A</td>\n",
       "      <td>A</td>\n",
       "      <td>A</td>\n",
       "      <td>...</td>\n",
       "      <td>B</td>\n",
       "      <td>A</td>\n",
       "      <td>A</td>\n",
       "      <td>A</td>\n",
       "      <td>B</td>\n",
       "      <td>A</td>\n",
       "      <td>C</td>\n",
       "      <td>A</td>\n",
       "      <td>A</td>\n",
       "      <td>Slytherin</td>\n",
       "    </tr>\n",
       "    <tr>\n",
       "      <th>717</th>\n",
       "      <td>718</td>\n",
       "      <td>A</td>\n",
       "      <td>C</td>\n",
       "      <td>A</td>\n",
       "      <td>A</td>\n",
       "      <td>A</td>\n",
       "      <td>A</td>\n",
       "      <td>A</td>\n",
       "      <td>B</td>\n",
       "      <td>A</td>\n",
       "      <td>...</td>\n",
       "      <td>A</td>\n",
       "      <td>A</td>\n",
       "      <td>C</td>\n",
       "      <td>A</td>\n",
       "      <td>B</td>\n",
       "      <td>A</td>\n",
       "      <td>A</td>\n",
       "      <td>C</td>\n",
       "      <td>A</td>\n",
       "      <td>Gryffindor</td>\n",
       "    </tr>\n",
       "    <tr>\n",
       "      <th>2149</th>\n",
       "      <td>2150</td>\n",
       "      <td>A</td>\n",
       "      <td>A</td>\n",
       "      <td>A</td>\n",
       "      <td>C</td>\n",
       "      <td>E</td>\n",
       "      <td>A</td>\n",
       "      <td>A</td>\n",
       "      <td>A</td>\n",
       "      <td>A</td>\n",
       "      <td>...</td>\n",
       "      <td>A</td>\n",
       "      <td>D</td>\n",
       "      <td>A</td>\n",
       "      <td>A</td>\n",
       "      <td>C</td>\n",
       "      <td>A</td>\n",
       "      <td>A</td>\n",
       "      <td>B</td>\n",
       "      <td>A</td>\n",
       "      <td>Ravenclaw</td>\n",
       "    </tr>\n",
       "  </tbody>\n",
       "</table>\n",
       "<p>5 rows × 29 columns</p>\n",
       "</div>"
      ],
      "text/plain": [
       "      StudentId C1 C2 C3 C4 C5 C6 C7 C8 C9  ... C19 C20 C21 C22 C23 C24 C25  \\\n",
       "2380       2381  A  A  A  D  A  C  A  A  A  ...   A   A   A   B   A   A   A   \n",
       "2548       2549  A  E  A  A  A  A  B  A  A  ...   A   D   A   C   A   A   B   \n",
       "3920       3921  A  A  E  A  C  A  A  A  A  ...   B   A   A   A   B   A   C   \n",
       "717         718  A  C  A  A  A  A  A  B  A  ...   A   A   C   A   B   A   A   \n",
       "2149       2150  A  A  A  C  E  A  A  A  A  ...   A   D   A   A   C   A   A   \n",
       "\n",
       "     C26 C27       House  \n",
       "2380   A   C   Ravenclaw  \n",
       "2548   A   A   Ravenclaw  \n",
       "3920   A   A   Slytherin  \n",
       "717    C   A  Gryffindor  \n",
       "2149   B   A   Ravenclaw  \n",
       "\n",
       "[5 rows x 29 columns]"
      ]
     },
     "execution_count": 113,
     "metadata": {},
     "output_type": "execute_result"
    }
   ],
   "source": [
    "Location = r\"..\\data\\SHData_v3.csv\"\n",
    "df = pd.read_csv(Location)\n",
    "print(df.shape)\n",
    "print(df.columns)\n",
    "df.sample(5)"
   ]
  },
  {
   "cell_type": "markdown",
   "metadata": {},
   "source": [
    "### convert categorical features into 0/1 features (one-hot encoding)"
   ]
  },
  {
   "cell_type": "code",
   "execution_count": 114,
   "metadata": {},
   "outputs": [],
   "source": [
    "# generate binary values using get_dummies (one-hot encoding)\n",
    "col_list = ['C1','C2','C3','C4','C5','C6','C7','C8','C9','C10', \\\n",
    " 'C11','C12','C13','C14','C15','C16','C17','C18','C19','C20',\\\n",
    " 'C21','C22','C23','C24','C25','C26','C27']\n",
    "df_d = pd.get_dummies(df, columns = col_list )"
   ]
  },
  {
   "cell_type": "code",
   "execution_count": 115,
   "metadata": {},
   "outputs": [],
   "source": [
    "pickle.dump( df_d, open( \"C:\\_2_Python\\Code\\SortingHat\\Data\\df_d.pickle\", \"wb\" ) )"
   ]
  },
  {
   "cell_type": "code",
   "execution_count": 116,
   "metadata": {},
   "outputs": [],
   "source": [
    "#reloading the pickled data frame\n",
    "df_d = pickle.load( open( \"C:\\_2_Python\\Code\\SortingHat\\Data\\df_d.pickle\", \"rb\" ) )"
   ]
  },
  {
   "cell_type": "code",
   "execution_count": 117,
   "metadata": {},
   "outputs": [
    {
     "data": {
      "text/plain": [
       "Index(['StudentId', 'House', 'C1_A', 'C1_B', 'C1_C', 'C1_D', 'C1_E', 'C2_A',\n",
       "       'C2_B', 'C2_C', 'C2_D', 'C2_E', 'C3_A', 'C3_B', 'C3_C', 'C3_D', 'C3_E',\n",
       "       'C4_A', 'C4_B', 'C4_C', 'C4_D', 'C4_E', 'C5_A', 'C5_B', 'C5_C', 'C5_D',\n",
       "       'C5_E', 'C6_A', 'C6_B', 'C6_C', 'C6_D', 'C6_E', 'C7_A', 'C7_B', 'C7_C',\n",
       "       'C7_D', 'C7_E', 'C8_A', 'C8_B', 'C8_C', 'C8_D', 'C8_E', 'C9_A', 'C9_B',\n",
       "       'C9_C', 'C9_D', 'C9_E', 'C10_A', 'C10_B', 'C10_C', 'C10_D', 'C10_E',\n",
       "       'C10_F', 'C10_G', 'C11_A', 'C11_B', 'C11_C', 'C11_D', 'C11_E', 'C11_F',\n",
       "       'C11_G', 'C12_A', 'C12_B', 'C12_C', 'C12_D', 'C12_E', 'C12_F', 'C13_A',\n",
       "       'C13_B', 'C13_C', 'C13_D', 'C13_E', 'C13_F', 'C13_G', 'C14_A', 'C14_B',\n",
       "       'C14_C', 'C14_D', 'C14_E', 'C14_F', 'C14_G', 'C14_H', 'C15_A', 'C15_B',\n",
       "       'C15_C', 'C15_D', 'C15_E', 'C15_F', 'C15_G', 'C15_H', 'C16_A', 'C16_B',\n",
       "       'C16_C', 'C16_D', 'C16_E', 'C17_A', 'C17_B', 'C17_C', 'C17_D', 'C17_E',\n",
       "       'C18_A', 'C18_B', 'C18_C', 'C18_D', 'C18_E', 'C19_A', 'C19_B', 'C19_C',\n",
       "       'C19_D', 'C19_E', 'C20_A', 'C20_B', 'C20_C', 'C20_D', 'C20_E', 'C21_A',\n",
       "       'C21_B', 'C21_C', 'C21_D', 'C21_E', 'C22_A', 'C22_B', 'C22_C', 'C23_A',\n",
       "       'C23_B', 'C23_C', 'C24_A', 'C24_B', 'C24_C', 'C25_A', 'C25_B', 'C25_C',\n",
       "       'C26_A', 'C26_B', 'C26_C', 'C27_A', 'C27_B', 'C27_C'],\n",
       "      dtype='object')"
      ]
     },
     "execution_count": 117,
     "metadata": {},
     "output_type": "execute_result"
    }
   ],
   "source": [
    "df_d.columns"
   ]
  },
  {
   "cell_type": "code",
   "execution_count": 118,
   "metadata": {},
   "outputs": [
    {
     "name": "stdout",
     "output_type": "stream",
     "text": [
      "(4031, 138)\n"
     ]
    },
    {
     "data": {
      "text/html": [
       "<div>\n",
       "<style scoped>\n",
       "    .dataframe tbody tr th:only-of-type {\n",
       "        vertical-align: middle;\n",
       "    }\n",
       "\n",
       "    .dataframe tbody tr th {\n",
       "        vertical-align: top;\n",
       "    }\n",
       "\n",
       "    .dataframe thead th {\n",
       "        text-align: right;\n",
       "    }\n",
       "</style>\n",
       "<table border=\"1\" class=\"dataframe\">\n",
       "  <thead>\n",
       "    <tr style=\"text-align: right;\">\n",
       "      <th></th>\n",
       "      <th>StudentId</th>\n",
       "      <th>House</th>\n",
       "      <th>C1_A</th>\n",
       "      <th>C1_B</th>\n",
       "      <th>C1_C</th>\n",
       "      <th>C1_D</th>\n",
       "      <th>C1_E</th>\n",
       "      <th>C2_A</th>\n",
       "      <th>C2_B</th>\n",
       "      <th>C2_C</th>\n",
       "      <th>...</th>\n",
       "      <th>C24_C</th>\n",
       "      <th>C25_A</th>\n",
       "      <th>C25_B</th>\n",
       "      <th>C25_C</th>\n",
       "      <th>C26_A</th>\n",
       "      <th>C26_B</th>\n",
       "      <th>C26_C</th>\n",
       "      <th>C27_A</th>\n",
       "      <th>C27_B</th>\n",
       "      <th>C27_C</th>\n",
       "    </tr>\n",
       "  </thead>\n",
       "  <tbody>\n",
       "    <tr>\n",
       "      <th>3610</th>\n",
       "      <td>3611</td>\n",
       "      <td>Slytherin</td>\n",
       "      <td>1</td>\n",
       "      <td>0</td>\n",
       "      <td>0</td>\n",
       "      <td>0</td>\n",
       "      <td>0</td>\n",
       "      <td>1</td>\n",
       "      <td>0</td>\n",
       "      <td>0</td>\n",
       "      <td>...</td>\n",
       "      <td>0</td>\n",
       "      <td>1</td>\n",
       "      <td>0</td>\n",
       "      <td>0</td>\n",
       "      <td>1</td>\n",
       "      <td>0</td>\n",
       "      <td>0</td>\n",
       "      <td>0</td>\n",
       "      <td>1</td>\n",
       "      <td>0</td>\n",
       "    </tr>\n",
       "    <tr>\n",
       "      <th>1695</th>\n",
       "      <td>1696</td>\n",
       "      <td>Hufflepuff</td>\n",
       "      <td>1</td>\n",
       "      <td>0</td>\n",
       "      <td>0</td>\n",
       "      <td>0</td>\n",
       "      <td>0</td>\n",
       "      <td>0</td>\n",
       "      <td>0</td>\n",
       "      <td>1</td>\n",
       "      <td>...</td>\n",
       "      <td>0</td>\n",
       "      <td>1</td>\n",
       "      <td>0</td>\n",
       "      <td>0</td>\n",
       "      <td>1</td>\n",
       "      <td>0</td>\n",
       "      <td>0</td>\n",
       "      <td>0</td>\n",
       "      <td>0</td>\n",
       "      <td>1</td>\n",
       "    </tr>\n",
       "    <tr>\n",
       "      <th>2013</th>\n",
       "      <td>2014</td>\n",
       "      <td>Ravenclaw</td>\n",
       "      <td>1</td>\n",
       "      <td>0</td>\n",
       "      <td>0</td>\n",
       "      <td>0</td>\n",
       "      <td>0</td>\n",
       "      <td>1</td>\n",
       "      <td>0</td>\n",
       "      <td>0</td>\n",
       "      <td>...</td>\n",
       "      <td>0</td>\n",
       "      <td>1</td>\n",
       "      <td>0</td>\n",
       "      <td>0</td>\n",
       "      <td>1</td>\n",
       "      <td>0</td>\n",
       "      <td>0</td>\n",
       "      <td>0</td>\n",
       "      <td>1</td>\n",
       "      <td>0</td>\n",
       "    </tr>\n",
       "    <tr>\n",
       "      <th>2304</th>\n",
       "      <td>2305</td>\n",
       "      <td>Ravenclaw</td>\n",
       "      <td>0</td>\n",
       "      <td>0</td>\n",
       "      <td>1</td>\n",
       "      <td>0</td>\n",
       "      <td>0</td>\n",
       "      <td>1</td>\n",
       "      <td>0</td>\n",
       "      <td>0</td>\n",
       "      <td>...</td>\n",
       "      <td>0</td>\n",
       "      <td>1</td>\n",
       "      <td>0</td>\n",
       "      <td>0</td>\n",
       "      <td>0</td>\n",
       "      <td>1</td>\n",
       "      <td>0</td>\n",
       "      <td>1</td>\n",
       "      <td>0</td>\n",
       "      <td>0</td>\n",
       "    </tr>\n",
       "    <tr>\n",
       "      <th>1131</th>\n",
       "      <td>1132</td>\n",
       "      <td>Hufflepuff</td>\n",
       "      <td>0</td>\n",
       "      <td>0</td>\n",
       "      <td>1</td>\n",
       "      <td>0</td>\n",
       "      <td>0</td>\n",
       "      <td>1</td>\n",
       "      <td>0</td>\n",
       "      <td>0</td>\n",
       "      <td>...</td>\n",
       "      <td>1</td>\n",
       "      <td>1</td>\n",
       "      <td>0</td>\n",
       "      <td>0</td>\n",
       "      <td>0</td>\n",
       "      <td>1</td>\n",
       "      <td>0</td>\n",
       "      <td>1</td>\n",
       "      <td>0</td>\n",
       "      <td>0</td>\n",
       "    </tr>\n",
       "  </tbody>\n",
       "</table>\n",
       "<p>5 rows × 138 columns</p>\n",
       "</div>"
      ],
      "text/plain": [
       "      StudentId       House  C1_A  C1_B  C1_C  C1_D  C1_E  C2_A  C2_B  C2_C  \\\n",
       "3610       3611   Slytherin     1     0     0     0     0     1     0     0   \n",
       "1695       1696  Hufflepuff     1     0     0     0     0     0     0     1   \n",
       "2013       2014   Ravenclaw     1     0     0     0     0     1     0     0   \n",
       "2304       2305   Ravenclaw     0     0     1     0     0     1     0     0   \n",
       "1131       1132  Hufflepuff     0     0     1     0     0     1     0     0   \n",
       "\n",
       "      ...  C24_C  C25_A  C25_B  C25_C  C26_A  C26_B  C26_C  C27_A  C27_B  \\\n",
       "3610  ...      0      1      0      0      1      0      0      0      1   \n",
       "1695  ...      0      1      0      0      1      0      0      0      0   \n",
       "2013  ...      0      1      0      0      1      0      0      0      1   \n",
       "2304  ...      0      1      0      0      0      1      0      1      0   \n",
       "1131  ...      1      1      0      0      0      1      0      1      0   \n",
       "\n",
       "      C27_C  \n",
       "3610      0  \n",
       "1695      1  \n",
       "2013      0  \n",
       "2304      0  \n",
       "1131      0  \n",
       "\n",
       "[5 rows x 138 columns]"
      ]
     },
     "execution_count": 118,
     "metadata": {},
     "output_type": "execute_result"
    }
   ],
   "source": [
    "print(df_d.shape)\n",
    "df_d.sample(5)"
   ]
  },
  {
   "cell_type": "code",
   "execution_count": 119,
   "metadata": {},
   "outputs": [
    {
     "data": {
      "text/plain": [
       "array(['Gryffindor', 'Hufflepuff', 'Ravenclaw', 'Slytherin'], dtype=object)"
      ]
     },
     "execution_count": 119,
     "metadata": {},
     "output_type": "execute_result"
    }
   ],
   "source": [
    "#checking the House values\n",
    "df_d['House'].unique()"
   ]
  },
  {
   "cell_type": "code",
   "execution_count": 120,
   "metadata": {},
   "outputs": [],
   "source": [
    "#turning house names into numerical values\n",
    "df_d.loc[df_d['House']=='Gryffindor','House'] = 0\n",
    "df_d.loc[df_d['House']=='Hufflepuff','House'] = 1\n",
    "df_d.loc[df_d['House']=='Ravenclaw','House'] = 2\n",
    "df_d.loc[df_d['House']=='Slytherin','House'] = 3\n",
    "df_d['House']=df_d['House'].astype('uint8')"
   ]
  },
  {
   "cell_type": "code",
   "execution_count": 121,
   "metadata": {},
   "outputs": [
    {
     "data": {
      "text/html": [
       "<div>\n",
       "<style scoped>\n",
       "    .dataframe tbody tr th:only-of-type {\n",
       "        vertical-align: middle;\n",
       "    }\n",
       "\n",
       "    .dataframe tbody tr th {\n",
       "        vertical-align: top;\n",
       "    }\n",
       "\n",
       "    .dataframe thead th {\n",
       "        text-align: right;\n",
       "    }\n",
       "</style>\n",
       "<table border=\"1\" class=\"dataframe\">\n",
       "  <thead>\n",
       "    <tr style=\"text-align: right;\">\n",
       "      <th></th>\n",
       "      <th>StudentId</th>\n",
       "      <th>House</th>\n",
       "      <th>C1_A</th>\n",
       "      <th>C1_B</th>\n",
       "      <th>C1_C</th>\n",
       "      <th>C1_D</th>\n",
       "      <th>C1_E</th>\n",
       "      <th>C2_A</th>\n",
       "      <th>C2_B</th>\n",
       "      <th>C2_C</th>\n",
       "      <th>...</th>\n",
       "      <th>C24_C</th>\n",
       "      <th>C25_A</th>\n",
       "      <th>C25_B</th>\n",
       "      <th>C25_C</th>\n",
       "      <th>C26_A</th>\n",
       "      <th>C26_B</th>\n",
       "      <th>C26_C</th>\n",
       "      <th>C27_A</th>\n",
       "      <th>C27_B</th>\n",
       "      <th>C27_C</th>\n",
       "    </tr>\n",
       "  </thead>\n",
       "  <tbody>\n",
       "    <tr>\n",
       "      <th>0</th>\n",
       "      <td>1</td>\n",
       "      <td>0</td>\n",
       "      <td>1</td>\n",
       "      <td>0</td>\n",
       "      <td>0</td>\n",
       "      <td>0</td>\n",
       "      <td>0</td>\n",
       "      <td>1</td>\n",
       "      <td>0</td>\n",
       "      <td>0</td>\n",
       "      <td>...</td>\n",
       "      <td>0</td>\n",
       "      <td>1</td>\n",
       "      <td>0</td>\n",
       "      <td>0</td>\n",
       "      <td>1</td>\n",
       "      <td>0</td>\n",
       "      <td>0</td>\n",
       "      <td>0</td>\n",
       "      <td>0</td>\n",
       "      <td>1</td>\n",
       "    </tr>\n",
       "    <tr>\n",
       "      <th>1</th>\n",
       "      <td>2</td>\n",
       "      <td>0</td>\n",
       "      <td>1</td>\n",
       "      <td>0</td>\n",
       "      <td>0</td>\n",
       "      <td>0</td>\n",
       "      <td>0</td>\n",
       "      <td>1</td>\n",
       "      <td>0</td>\n",
       "      <td>0</td>\n",
       "      <td>...</td>\n",
       "      <td>0</td>\n",
       "      <td>1</td>\n",
       "      <td>0</td>\n",
       "      <td>0</td>\n",
       "      <td>0</td>\n",
       "      <td>1</td>\n",
       "      <td>0</td>\n",
       "      <td>1</td>\n",
       "      <td>0</td>\n",
       "      <td>0</td>\n",
       "    </tr>\n",
       "    <tr>\n",
       "      <th>2</th>\n",
       "      <td>3</td>\n",
       "      <td>0</td>\n",
       "      <td>1</td>\n",
       "      <td>0</td>\n",
       "      <td>0</td>\n",
       "      <td>0</td>\n",
       "      <td>0</td>\n",
       "      <td>1</td>\n",
       "      <td>0</td>\n",
       "      <td>0</td>\n",
       "      <td>...</td>\n",
       "      <td>0</td>\n",
       "      <td>1</td>\n",
       "      <td>0</td>\n",
       "      <td>0</td>\n",
       "      <td>1</td>\n",
       "      <td>0</td>\n",
       "      <td>0</td>\n",
       "      <td>0</td>\n",
       "      <td>1</td>\n",
       "      <td>0</td>\n",
       "    </tr>\n",
       "    <tr>\n",
       "      <th>3</th>\n",
       "      <td>4</td>\n",
       "      <td>0</td>\n",
       "      <td>1</td>\n",
       "      <td>0</td>\n",
       "      <td>0</td>\n",
       "      <td>0</td>\n",
       "      <td>0</td>\n",
       "      <td>1</td>\n",
       "      <td>0</td>\n",
       "      <td>0</td>\n",
       "      <td>...</td>\n",
       "      <td>1</td>\n",
       "      <td>1</td>\n",
       "      <td>0</td>\n",
       "      <td>0</td>\n",
       "      <td>0</td>\n",
       "      <td>0</td>\n",
       "      <td>1</td>\n",
       "      <td>1</td>\n",
       "      <td>0</td>\n",
       "      <td>0</td>\n",
       "    </tr>\n",
       "    <tr>\n",
       "      <th>4</th>\n",
       "      <td>5</td>\n",
       "      <td>0</td>\n",
       "      <td>1</td>\n",
       "      <td>0</td>\n",
       "      <td>0</td>\n",
       "      <td>0</td>\n",
       "      <td>0</td>\n",
       "      <td>1</td>\n",
       "      <td>0</td>\n",
       "      <td>0</td>\n",
       "      <td>...</td>\n",
       "      <td>0</td>\n",
       "      <td>1</td>\n",
       "      <td>0</td>\n",
       "      <td>0</td>\n",
       "      <td>0</td>\n",
       "      <td>1</td>\n",
       "      <td>0</td>\n",
       "      <td>1</td>\n",
       "      <td>0</td>\n",
       "      <td>0</td>\n",
       "    </tr>\n",
       "  </tbody>\n",
       "</table>\n",
       "<p>5 rows × 138 columns</p>\n",
       "</div>"
      ],
      "text/plain": [
       "   StudentId  House  C1_A  C1_B  C1_C  C1_D  C1_E  C2_A  C2_B  C2_C  ...  \\\n",
       "0          1      0     1     0     0     0     0     1     0     0  ...   \n",
       "1          2      0     1     0     0     0     0     1     0     0  ...   \n",
       "2          3      0     1     0     0     0     0     1     0     0  ...   \n",
       "3          4      0     1     0     0     0     0     1     0     0  ...   \n",
       "4          5      0     1     0     0     0     0     1     0     0  ...   \n",
       "\n",
       "   C24_C  C25_A  C25_B  C25_C  C26_A  C26_B  C26_C  C27_A  C27_B  C27_C  \n",
       "0      0      1      0      0      1      0      0      0      0      1  \n",
       "1      0      1      0      0      0      1      0      1      0      0  \n",
       "2      0      1      0      0      1      0      0      0      1      0  \n",
       "3      1      1      0      0      0      0      1      1      0      0  \n",
       "4      0      1      0      0      0      1      0      1      0      0  \n",
       "\n",
       "[5 rows x 138 columns]"
      ]
     },
     "execution_count": 121,
     "metadata": {},
     "output_type": "execute_result"
    }
   ],
   "source": [
    "df_d.head(5)"
   ]
  },
  {
   "cell_type": "code",
   "execution_count": 122,
   "metadata": {},
   "outputs": [],
   "source": [
    "# makes a list of all the columns (features) that we are going to use for training\n",
    "flist = ['C1_A','C1_B','C1_C','C1_D','C1_E','C2_A','C2_B','C2_C','C2_D','C2_E',\n",
    "         'C3_A','C3_B','C3_C','C3_D','C3_E','C4_A','C4_B','C4_C','C4_D','C4_E',\n",
    "         'C5_A','C5_B','C5_C','C5_D','C5_E','C6_A','C6_B','C6_C','C6_D','C6_E',\n",
    "         'C7_A','C7_B','C7_C','C7_D','C7_E','C8_A','C8_B','C8_C','C8_D','C8_E',\n",
    "         'C9_A','C9_B','C9_C','C9_D','C9_E','C10_A','C10_B','C10_C','C10_D','C10_E','C10_F','C10_G',\n",
    "         'C11_A','C11_B','C11_C','C11_D','C11_E','C11_F','C11_G','C12_A','C12_B','C12_C','C12_D','C12_E','C12_F',\n",
    "         'C13_A','C13_B','C13_C','C13_D','C13_E','C13_F','C13_G',\n",
    "         'C14_A','C14_B','C14_C','C14_D','C14_E','C14_F','C14_G','C14_H',\n",
    "         'C15_A','C15_B','C15_C','C15_D','C15_E','C15_F','C15_G','C15_H',\n",
    "         'C16_A','C16_B','C16_C','C16_D','C16_E','C17_A','C17_B','C17_C','C17_D','C17_E',\n",
    "         'C18_A','C18_B','C18_C','C18_D','C18_E','C19_A','C19_B','C19_C','C19_D','C19_E',\n",
    "         'C20_A','C20_B','C20_C','C20_D','C20_E','C21_A','C21_B','C21_C','C21_D','C21_E',\n",
    "         'C22_A','C22_B','C22_C','C23_A','C23_B','C23_C','C24_A','C24_B','C24_C','C25_A','C25_B','C25_C',\n",
    "         'C26_A','C26_B','C26_C','C27_A','C27_B','C27_C']"
   ]
  },
  {
   "cell_type": "code",
   "execution_count": 123,
   "metadata": {},
   "outputs": [],
   "source": [
    "X = df_d[flist]     \n",
    "\n",
    "# \"house\" is already a column and we're singling it out and tells the model to use it as a label for the result\n",
    "y = df_d['House']   \n",
    "\n",
    "#split the data into 80% training data, 20% test data\n",
    "X_train, X_test, y_train, y_test = train_test_split(X, y, test_size=0.2, random_state=42)"
   ]
  },
  {
   "cell_type": "code",
   "execution_count": 124,
   "metadata": {},
   "outputs": [],
   "source": [
    "# make model\n",
    "xgb_model = xgb.XGBClassifier(disable_default_ava1_metric=1\n",
    "                             , booster = 'gbtree'\n",
    "                             , objective = 'reg:logistic'\n",
    "                             , random_state = 42\n",
    "                             , max_depth = 20\n",
    "                             , learning_rate = 0.2\n",
    "                             , eval_metric=[\"auc\"]\n",
    "                             , use_label_encoder=False)"
   ]
  },
  {
   "cell_type": "code",
   "execution_count": 125,
   "metadata": {},
   "outputs": [
    {
     "name": "stdout",
     "output_type": "stream",
     "text": [
      "[22:50:36] WARNING: C:/Users/Administrator/workspace/xgboost-win64_release_1.3.0/src/learner.cc:541: \n",
      "Parameters: { disable_default_ava1_metric } might not be used.\n",
      "\n",
      "  This may not be accurate due to some parameters are only used in language bindings but\n",
      "  passed down to XGBoost core.  Or some parameters are not used but slip through this\n",
      "  verification. Please open an issue if you find above cases.\n",
      "\n",
      "\n"
     ]
    },
    {
     "data": {
      "text/plain": [
       "XGBClassifier(base_score=0.5, booster='gbtree', colsample_bylevel=1,\n",
       "       colsample_bynode=1, colsample_bytree=1,\n",
       "       disable_default_ava1_metric=1, eval_metric=['auc'], gamma=0,\n",
       "       gpu_id=-1, importance_type='gain', interaction_constraints='',\n",
       "       learning_rate=0.2, max_delta_step=0, max_depth=20,\n",
       "       min_child_weight=1, missing=nan, monotone_constraints='()',\n",
       "       n_estimators=100, n_jobs=8, num_parallel_tree=1,\n",
       "       objective='multi:softprob', random_state=42, reg_alpha=0,\n",
       "       reg_lambda=1, scale_pos_weight=None, subsample=1,\n",
       "       tree_method='exact', use_label_encoder=False, validate_parameters=1,\n",
       "       verbosity=None)"
      ]
     },
     "execution_count": 125,
     "metadata": {},
     "output_type": "execute_result"
    }
   ],
   "source": [
    "# trains the classifier with the training data\n",
    "xgb_model.fit(X_train, y_train)"
   ]
  },
  {
   "cell_type": "markdown",
   "metadata": {},
   "source": [
    "### train data"
   ]
  },
  {
   "cell_type": "code",
   "execution_count": 126,
   "metadata": {},
   "outputs": [],
   "source": [
    "# generates its predictions\n",
    "y_pred = xgb_model.predict(X_train)"
   ]
  },
  {
   "cell_type": "code",
   "execution_count": 127,
   "metadata": {},
   "outputs": [
    {
     "data": {
      "text/plain": [
       "1164    1\n",
       "2553    2\n",
       "2667    2\n",
       "3299    3\n",
       "1738    1\n",
       "Name: House, dtype: uint8"
      ]
     },
     "execution_count": 127,
     "metadata": {},
     "output_type": "execute_result"
    }
   ],
   "source": [
    "y_train.head(5)"
   ]
  },
  {
   "cell_type": "code",
   "execution_count": 128,
   "metadata": {},
   "outputs": [
    {
     "data": {
      "text/plain": [
       "array([1, 2, 2, 3, 1], dtype=int64)"
      ]
     },
     "execution_count": 128,
     "metadata": {},
     "output_type": "execute_result"
    }
   ],
   "source": [
    "y_pred[0:5]"
   ]
  },
  {
   "cell_type": "code",
   "execution_count": 129,
   "metadata": {},
   "outputs": [
    {
     "name": "stdout",
     "output_type": "stream",
     "text": [
      "[[731   0   0   0]\n",
      " [  0 718   0   0]\n",
      " [  0   0 999   0]\n",
      " [  0   0   0 776]]\n"
     ]
    }
   ],
   "source": [
    "# ideally, only the diagonal would have nonzero numbers, but this isn't bad\n",
    "print(confusion_matrix(y_train, y_pred))"
   ]
  },
  {
   "cell_type": "code",
   "execution_count": 130,
   "metadata": {
    "scrolled": true
   },
   "outputs": [
    {
     "name": "stdout",
     "output_type": "stream",
     "text": [
      "             precision    recall  f1-score   support\n",
      "\n",
      "          0       1.00      1.00      1.00       731\n",
      "          1       1.00      1.00      1.00       718\n",
      "          2       1.00      1.00      1.00       999\n",
      "          3       1.00      1.00      1.00       776\n",
      "\n",
      "avg / total       1.00      1.00      1.00      3224\n",
      "\n"
     ]
    }
   ],
   "source": [
    "# basically an accuracy report\n",
    "print(classification_report(y_train, y_pred)) "
   ]
  },
  {
   "cell_type": "markdown",
   "metadata": {},
   "source": [
    "### test data"
   ]
  },
  {
   "cell_type": "code",
   "execution_count": 131,
   "metadata": {},
   "outputs": [],
   "source": [
    "y_pred = xgb_model.predict(X_test)"
   ]
  },
  {
   "cell_type": "code",
   "execution_count": 132,
   "metadata": {},
   "outputs": [
    {
     "name": "stdout",
     "output_type": "stream",
     "text": [
      "[[164  10  21   6]\n",
      " [  6 168  13   5]\n",
      " [  6  17 194  12]\n",
      " [ 12  13  13 147]]\n"
     ]
    }
   ],
   "source": [
    "print(confusion_matrix(y_test, y_pred))"
   ]
  },
  {
   "cell_type": "code",
   "execution_count": 133,
   "metadata": {},
   "outputs": [
    {
     "name": "stdout",
     "output_type": "stream",
     "text": [
      "             precision    recall  f1-score   support\n",
      "\n",
      "          0       0.87      0.82      0.84       201\n",
      "          1       0.81      0.88      0.84       192\n",
      "          2       0.80      0.85      0.83       229\n",
      "          3       0.86      0.79      0.83       185\n",
      "\n",
      "avg / total       0.84      0.83      0.83       807\n",
      "\n"
     ]
    }
   ],
   "source": [
    "print(classification_report(y_test, y_pred)) "
   ]
  }
 ],
 "metadata": {
  "kernelspec": {
   "display_name": "Python 3",
   "language": "python",
   "name": "python3"
  },
  "language_info": {
   "codemirror_mode": {
    "name": "ipython",
    "version": 3
   },
   "file_extension": ".py",
   "mimetype": "text/x-python",
   "name": "python",
   "nbconvert_exporter": "python",
   "pygments_lexer": "ipython3",
   "version": "3.6.5"
  }
 },
 "nbformat": 4,
 "nbformat_minor": 2
}
